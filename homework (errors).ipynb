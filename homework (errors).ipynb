{
 "cells": [
  {
   "cell_type": "code",
   "execution_count": 1,
   "id": "05edd839-68c0-4e5d-9d4e-972d1b5f3423",
   "metadata": {},
   "outputs": [],
   "source": [
    "import requests\n",
    "from requests import HTTPError\n",
    "def send_request(status_code=200):\n",
    "    response = requests.get(\"https://httpstat.us/%d\" % status_code)\n",
    "    response.raise_for_status()\n",
    "    return response.status_code"
   ]
  },
  {
   "cell_type": "markdown",
   "id": "57f2b986-6401-47b0-a96e-bf31e65eb154",
   "metadata": {},
   "source": [
    "### Блок, в который нужно внести доработку:"
   ]
  },
  {
   "cell_type": "code",
   "execution_count": 5,
   "id": "3053646c-1b78-4743-b781-7cd440444605",
   "metadata": {},
   "outputs": [
    {
     "name": "stdin",
     "output_type": "stream",
     "text": [
      "Введите http код для проверки >  ав\n"
     ]
    },
    {
     "name": "stdout",
     "output_type": "stream",
     "text": [
      "Введите данные типа integer\n"
     ]
    },
    {
     "name": "stdin",
     "output_type": "stream",
     "text": [
      "Введите http код для проверки >  500\n"
     ]
    }
   ],
   "source": [
    "# Читаем ввод пользователя и преобразуем строку из input в int\n",
    "try:\n",
    "    code = int(input('Введите http код для проверки > '))\n",
    "    print(\"Верный формат:\", code)\n",
    "except ValueError:\n",
    "    print(\"Введите данные типа integer\")\n",
    "    code = int(input('Введите http код для проверки > '))"
   ]
  },
  {
   "cell_type": "code",
   "execution_count": 6,
   "id": "6d6d9ed7-c312-455e-8f09-99bbc4f89000",
   "metadata": {},
   "outputs": [
    {
     "name": "stdout",
     "output_type": "stream",
     "text": [
      "Произошла ошибка при отправке HTTP-запроса: 500 Server Error: Internal Server Error for url: https://httpstat.us/500\n",
      "Получен код:\n",
      "500\n"
     ]
    }
   ],
   "source": [
    "response_code = None\n",
    "try:\n",
    "    response_code = send_request(code)\n",
    "except HTTPError as ex:\n",
    "    print(\"Произошла ошибка при отправке HTTP-запроса: %s\" % str(ex))\n",
    "    response_code = ex.response.status_code\n",
    "finally:\n",
    "    print(\"Получен код:\")\n",
    "    print(response_code)"
   ]
  },
  {
   "cell_type": "code",
   "execution_count": null,
   "id": "9f731cd0-318d-465f-9439-6e410bd32290",
   "metadata": {},
   "outputs": [],
   "source": []
  }
 ],
 "metadata": {
  "kernelspec": {
   "display_name": "Python 3 (ipykernel)",
   "language": "python",
   "name": "python3"
  },
  "language_info": {
   "codemirror_mode": {
    "name": "ipython",
    "version": 3
   },
   "file_extension": ".py",
   "mimetype": "text/x-python",
   "name": "python",
   "nbconvert_exporter": "python",
   "pygments_lexer": "ipython3",
   "version": "3.10.9"
  }
 },
 "nbformat": 4,
 "nbformat_minor": 5
}
